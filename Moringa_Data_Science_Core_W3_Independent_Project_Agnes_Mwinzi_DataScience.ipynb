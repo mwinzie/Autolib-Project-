{
  "nbformat": 4,
  "nbformat_minor": 0,
  "metadata": {
    "colab": {
      "name": "Moringa_Data_Science_Core_W3_Independent_Project_Agnes_Mwinzi_DataScience",
      "version": "0.3.2",
      "provenance": [],
      "collapsed_sections": [],
      "include_colab_link": true
    },
    "kernelspec": {
      "name": "python3",
      "display_name": "Python 3"
    },
    "accelerator": "GPU"
  },
  "cells": [
    {
      "cell_type": "markdown",
      "metadata": {
        "id": "view-in-github",
        "colab_type": "text"
      },
      "source": [
        "<a href=\"https://colab.research.google.com/github/mwinzie/Autolib2-Project/blob/master/Moringa_Data_Science_Core_W3_Independent_Project_Agnes_Mwinzi_DataScience.ipynb\" target=\"_parent\"><img src=\"https://colab.research.google.com/assets/colab-badge.svg\" alt=\"Open In Colab\"/></a>"
      ]
    },
    {
      "cell_type": "markdown",
      "metadata": {
        "id": "sxlhF0517-UO",
        "colab_type": "text"
      },
      "source": [
        "# Research Problem\n",
        "The objective of this project is to investigate a claim about the number of blue cars used in Autolib electric car-sharing service company."
      ]
    },
    {
      "cell_type": "code",
      "metadata": {
        "id": "5krhRCcWPf2P",
        "colab_type": "code",
        "colab": {}
      },
      "source": [
        "import pandas as pd\n",
        "import numpy as np\n",
        "import matplotlib.pyplot as plt\n",
        "import seaborn as sns\n"
      ],
      "execution_count": 0,
      "outputs": []
    },
    {
      "cell_type": "code",
      "metadata": {
        "id": "od8MYk36QooQ",
        "colab_type": "code",
        "colab": {}
      },
      "source": [
        "autodict = pd.read_csv('columns_explanation.xlsx', encoding = 'latin1')\n",
        "autodict.head()"
      ],
      "execution_count": 0,
      "outputs": []
    },
    {
      "cell_type": "code",
      "metadata": {
        "id": "OOi3_wURP5Zp",
        "colab_type": "code",
        "outputId": "eac118fb-c739-4482-86fa-89c2b9ce9938",
        "colab": {
          "base_uri": "https://localhost:8080/",
          "height": 234
        }
      },
      "source": [
        "auto = pd.read_csv('http://bit.ly/DSCoreAutolibDataset')\n",
        "auto.head()"
      ],
      "execution_count": 0,
      "outputs": [
        {
          "output_type": "execute_result",
          "data": {
            "text/html": [
              "<div>\n",
              "<style scoped>\n",
              "    .dataframe tbody tr th:only-of-type {\n",
              "        vertical-align: middle;\n",
              "    }\n",
              "\n",
              "    .dataframe tbody tr th {\n",
              "        vertical-align: top;\n",
              "    }\n",
              "\n",
              "    .dataframe thead th {\n",
              "        text-align: right;\n",
              "    }\n",
              "</style>\n",
              "<table border=\"1\" class=\"dataframe\">\n",
              "  <thead>\n",
              "    <tr style=\"text-align: right;\">\n",
              "      <th></th>\n",
              "      <th>Postal code</th>\n",
              "      <th>date</th>\n",
              "      <th>n_daily_data_points</th>\n",
              "      <th>dayOfWeek</th>\n",
              "      <th>day_type</th>\n",
              "      <th>BlueCars_taken_sum</th>\n",
              "      <th>BlueCars_returned_sum</th>\n",
              "      <th>Utilib_taken_sum</th>\n",
              "      <th>Utilib_returned_sum</th>\n",
              "      <th>Utilib_14_taken_sum</th>\n",
              "      <th>Utilib_14_returned_sum</th>\n",
              "      <th>Slots_freed_sum</th>\n",
              "      <th>Slots_taken_sum</th>\n",
              "    </tr>\n",
              "  </thead>\n",
              "  <tbody>\n",
              "    <tr>\n",
              "      <th>0</th>\n",
              "      <td>75001</td>\n",
              "      <td>1/1/2018</td>\n",
              "      <td>1440</td>\n",
              "      <td>0</td>\n",
              "      <td>weekday</td>\n",
              "      <td>110</td>\n",
              "      <td>103</td>\n",
              "      <td>3</td>\n",
              "      <td>2</td>\n",
              "      <td>10</td>\n",
              "      <td>9</td>\n",
              "      <td>22</td>\n",
              "      <td>20</td>\n",
              "    </tr>\n",
              "    <tr>\n",
              "      <th>1</th>\n",
              "      <td>75001</td>\n",
              "      <td>1/2/2018</td>\n",
              "      <td>1438</td>\n",
              "      <td>1</td>\n",
              "      <td>weekday</td>\n",
              "      <td>98</td>\n",
              "      <td>94</td>\n",
              "      <td>1</td>\n",
              "      <td>1</td>\n",
              "      <td>8</td>\n",
              "      <td>8</td>\n",
              "      <td>23</td>\n",
              "      <td>22</td>\n",
              "    </tr>\n",
              "    <tr>\n",
              "      <th>2</th>\n",
              "      <td>75001</td>\n",
              "      <td>1/3/2018</td>\n",
              "      <td>1439</td>\n",
              "      <td>2</td>\n",
              "      <td>weekday</td>\n",
              "      <td>138</td>\n",
              "      <td>139</td>\n",
              "      <td>0</td>\n",
              "      <td>0</td>\n",
              "      <td>2</td>\n",
              "      <td>2</td>\n",
              "      <td>27</td>\n",
              "      <td>27</td>\n",
              "    </tr>\n",
              "    <tr>\n",
              "      <th>3</th>\n",
              "      <td>75001</td>\n",
              "      <td>1/4/2018</td>\n",
              "      <td>1320</td>\n",
              "      <td>3</td>\n",
              "      <td>weekday</td>\n",
              "      <td>104</td>\n",
              "      <td>104</td>\n",
              "      <td>2</td>\n",
              "      <td>2</td>\n",
              "      <td>9</td>\n",
              "      <td>8</td>\n",
              "      <td>25</td>\n",
              "      <td>21</td>\n",
              "    </tr>\n",
              "    <tr>\n",
              "      <th>4</th>\n",
              "      <td>75001</td>\n",
              "      <td>1/5/2018</td>\n",
              "      <td>1440</td>\n",
              "      <td>4</td>\n",
              "      <td>weekday</td>\n",
              "      <td>114</td>\n",
              "      <td>117</td>\n",
              "      <td>3</td>\n",
              "      <td>3</td>\n",
              "      <td>6</td>\n",
              "      <td>6</td>\n",
              "      <td>18</td>\n",
              "      <td>20</td>\n",
              "    </tr>\n",
              "  </tbody>\n",
              "</table>\n",
              "</div>"
            ],
            "text/plain": [
              "   Postal code      date  ...  Slots_freed_sum  Slots_taken_sum\n",
              "0        75001  1/1/2018  ...               22               20\n",
              "1        75001  1/2/2018  ...               23               22\n",
              "2        75001  1/3/2018  ...               27               27\n",
              "3        75001  1/4/2018  ...               25               21\n",
              "4        75001  1/5/2018  ...               18               20\n",
              "\n",
              "[5 rows x 13 columns]"
            ]
          },
          "metadata": {
            "tags": []
          },
          "execution_count": 4
        }
      ]
    },
    {
      "cell_type": "code",
      "metadata": {
        "id": "Mdd67ZfyQkFO",
        "colab_type": "code",
        "colab": {}
      },
      "source": [
        ""
      ],
      "execution_count": 0,
      "outputs": []
    }
  ]
}