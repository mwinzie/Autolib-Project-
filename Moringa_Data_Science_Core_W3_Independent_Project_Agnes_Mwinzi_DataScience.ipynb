{
  "nbformat": 4,
  "nbformat_minor": 0,
  "metadata": {
    "colab": {
      "name": "Moringa_Data_Science_Core_W3_Independent_Project_Agnes_Mwinzi_DataScience",
      "version": "0.3.2",
      "provenance": [],
      "collapsed_sections": [],
      "toc_visible": true,
      "include_colab_link": true
    },
    "kernelspec": {
      "name": "python3",
      "display_name": "Python 3"
    },
    "accelerator": "GPU"
  },
  "cells": [
    {
      "cell_type": "markdown",
      "metadata": {
        "id": "view-in-github",
        "colab_type": "text"
      },
      "source": [
        "<a href=\"https://colab.research.google.com/github/mwinzie/Autolib2-Project/blob/master/Moringa_Data_Science_Core_W3_Independent_Project_Agnes_Mwinzi_DataScience.ipynb\" target=\"_parent\"><img src=\"https://colab.research.google.com/assets/colab-badge.svg\" alt=\"Open In Colab\"/></a>"
      ]
    },
    {
      "cell_type": "markdown",
      "metadata": {
        "id": "sxlhF0517-UO",
        "colab_type": "text"
      },
      "source": [
        "# Research Problem\n",
        "The objective of this project is to investigate a claim about the number of blue cars used in Autolib electric car-sharing service company."
      ]
    },
    {
      "cell_type": "code",
      "metadata": {
        "id": "5krhRCcWPf2P",
        "colab_type": "code",
        "colab": {}
      },
      "source": [
        "#importing all the necessary libraries\n",
        "import pandas as pd\n",
        "import numpy as np\n",
        "import matplotlib.pyplot as plt\n",
        "import seaborn as sns\n",
        "import statistics as st"
      ],
      "execution_count": 0,
      "outputs": []
    },
    {
      "cell_type": "markdown",
      "metadata": {
        "id": "o7WY2OjpCUeF",
        "colab_type": "text"
      },
      "source": [
        "# Loading the Dataset"
      ]
    },
    {
      "cell_type": "markdown",
      "metadata": {
        "id": "rnqkgbaRCZ4L",
        "colab_type": "text"
      },
      "source": [
        "### Loading the data dictionary"
      ]
    },
    {
      "cell_type": "code",
      "metadata": {
        "id": "od8MYk36QooQ",
        "colab_type": "code",
        "colab": {
          "base_uri": "https://localhost:8080/",
          "height": 407
        },
        "outputId": "54e593e2-ff3d-46db-8179-1e57f4fbff36"
      },
      "source": [
        "#loading the data dictionary for the Autolib dataset\n",
        "autodict = pd.read_csv('columnsexplanation.csv', header = 1, compression = None)\n",
        "\n",
        "#previewing the autolib data dictionary\n",
        "autodict"
      ],
      "execution_count": 16,
      "outputs": [
        {
          "output_type": "execute_result",
          "data": {
            "text/html": [
              "<div>\n",
              "<style scoped>\n",
              "    .dataframe tbody tr th:only-of-type {\n",
              "        vertical-align: middle;\n",
              "    }\n",
              "\n",
              "    .dataframe tbody tr th {\n",
              "        vertical-align: top;\n",
              "    }\n",
              "\n",
              "    .dataframe thead th {\n",
              "        text-align: right;\n",
              "    }\n",
              "</style>\n",
              "<table border=\"1\" class=\"dataframe\">\n",
              "  <thead>\n",
              "    <tr style=\"text-align: right;\">\n",
              "      <th></th>\n",
              "      <th>Postal code</th>\n",
              "      <th>postal code of the area (in Paris)</th>\n",
              "    </tr>\n",
              "  </thead>\n",
              "  <tbody>\n",
              "    <tr>\n",
              "      <th>0</th>\n",
              "      <td>date</td>\n",
              "      <td>date of the row aggregation</td>\n",
              "    </tr>\n",
              "    <tr>\n",
              "      <th>1</th>\n",
              "      <td>n_daily_data_points</td>\n",
              "      <td>number of daily data poinst that were availabl...</td>\n",
              "    </tr>\n",
              "    <tr>\n",
              "      <th>2</th>\n",
              "      <td>dayOfWeek</td>\n",
              "      <td>identifier of weekday (0: Monday -&gt; 6: Sunday)</td>\n",
              "    </tr>\n",
              "    <tr>\n",
              "      <th>3</th>\n",
              "      <td>day_type</td>\n",
              "      <td>weekday or weekend</td>\n",
              "    </tr>\n",
              "    <tr>\n",
              "      <th>4</th>\n",
              "      <td>BlueCars_taken_sum</td>\n",
              "      <td>Number of bluecars taken that date in that area</td>\n",
              "    </tr>\n",
              "    <tr>\n",
              "      <th>5</th>\n",
              "      <td>BlueCars_returned_sum</td>\n",
              "      <td>Number of bluecars returned that date in that ...</td>\n",
              "    </tr>\n",
              "    <tr>\n",
              "      <th>6</th>\n",
              "      <td>Utilib_taken_sum</td>\n",
              "      <td>Number of Utilib taken that date in that area</td>\n",
              "    </tr>\n",
              "    <tr>\n",
              "      <th>7</th>\n",
              "      <td>Utilib_returned_sum</td>\n",
              "      <td>Number of Utilib returned that date in that area</td>\n",
              "    </tr>\n",
              "    <tr>\n",
              "      <th>8</th>\n",
              "      <td>Utilib_14_taken_sum</td>\n",
              "      <td>Number of Utilib 1.4 taken that date in that area</td>\n",
              "    </tr>\n",
              "    <tr>\n",
              "      <th>9</th>\n",
              "      <td>Utilib_14_returned_sum</td>\n",
              "      <td>Number of Utilib 1.4 returned that date in tha...</td>\n",
              "    </tr>\n",
              "    <tr>\n",
              "      <th>10</th>\n",
              "      <td>Slots_freed_sum</td>\n",
              "      <td>Number of recharging slots released that date ...</td>\n",
              "    </tr>\n",
              "    <tr>\n",
              "      <th>11</th>\n",
              "      <td>Slots_taken_sum</td>\n",
              "      <td>Number of rechargign slots taken that date in ...</td>\n",
              "    </tr>\n",
              "  </tbody>\n",
              "</table>\n",
              "</div>"
            ],
            "text/plain": [
              "               Postal code                 postal code of the area (in Paris)\n",
              "0                     date                        date of the row aggregation\n",
              "1      n_daily_data_points  number of daily data poinst that were availabl...\n",
              "2                dayOfWeek     identifier of weekday (0: Monday -> 6: Sunday)\n",
              "3                 day_type                                 weekday or weekend\n",
              "4       BlueCars_taken_sum    Number of bluecars taken that date in that area\n",
              "5    BlueCars_returned_sum  Number of bluecars returned that date in that ...\n",
              "6         Utilib_taken_sum      Number of Utilib taken that date in that area\n",
              "7      Utilib_returned_sum   Number of Utilib returned that date in that area\n",
              "8      Utilib_14_taken_sum  Number of Utilib 1.4 taken that date in that area\n",
              "9   Utilib_14_returned_sum  Number of Utilib 1.4 returned that date in tha...\n",
              "10         Slots_freed_sum  Number of recharging slots released that date ...\n",
              "11         Slots_taken_sum  Number of rechargign slots taken that date in ..."
            ]
          },
          "metadata": {
            "tags": []
          },
          "execution_count": 16
        }
      ]
    },
    {
      "cell_type": "markdown",
      "metadata": {
        "id": "pBny-FMhChOZ",
        "colab_type": "text"
      },
      "source": [
        "### Loading the Autolib Dataset"
      ]
    },
    {
      "cell_type": "code",
      "metadata": {
        "id": "OOi3_wURP5Zp",
        "colab_type": "code",
        "outputId": "ad3d0cd0-756e-4b8b-9b16-553599d26bcb",
        "colab": {
          "base_uri": "https://localhost:8080/",
          "height": 234
        }
      },
      "source": [
        "#loading the autolib dataset from the URL and creating a dataframe called auto\n",
        "auto = pd.read_csv('http://bit.ly/DSCoreAutolibDataset')"
      ],
      "execution_count": 10,
      "outputs": [
        {
          "output_type": "execute_result",
          "data": {
            "text/html": [
              "<div>\n",
              "<style scoped>\n",
              "    .dataframe tbody tr th:only-of-type {\n",
              "        vertical-align: middle;\n",
              "    }\n",
              "\n",
              "    .dataframe tbody tr th {\n",
              "        vertical-align: top;\n",
              "    }\n",
              "\n",
              "    .dataframe thead th {\n",
              "        text-align: right;\n",
              "    }\n",
              "</style>\n",
              "<table border=\"1\" class=\"dataframe\">\n",
              "  <thead>\n",
              "    <tr style=\"text-align: right;\">\n",
              "      <th></th>\n",
              "      <th>Postal code</th>\n",
              "      <th>date</th>\n",
              "      <th>n_daily_data_points</th>\n",
              "      <th>dayOfWeek</th>\n",
              "      <th>day_type</th>\n",
              "      <th>BlueCars_taken_sum</th>\n",
              "      <th>BlueCars_returned_sum</th>\n",
              "      <th>Utilib_taken_sum</th>\n",
              "      <th>Utilib_returned_sum</th>\n",
              "      <th>Utilib_14_taken_sum</th>\n",
              "      <th>Utilib_14_returned_sum</th>\n",
              "      <th>Slots_freed_sum</th>\n",
              "      <th>Slots_taken_sum</th>\n",
              "    </tr>\n",
              "  </thead>\n",
              "  <tbody>\n",
              "    <tr>\n",
              "      <th>0</th>\n",
              "      <td>75001</td>\n",
              "      <td>1/1/2018</td>\n",
              "      <td>1440</td>\n",
              "      <td>0</td>\n",
              "      <td>weekday</td>\n",
              "      <td>110</td>\n",
              "      <td>103</td>\n",
              "      <td>3</td>\n",
              "      <td>2</td>\n",
              "      <td>10</td>\n",
              "      <td>9</td>\n",
              "      <td>22</td>\n",
              "      <td>20</td>\n",
              "    </tr>\n",
              "    <tr>\n",
              "      <th>1</th>\n",
              "      <td>75001</td>\n",
              "      <td>1/2/2018</td>\n",
              "      <td>1438</td>\n",
              "      <td>1</td>\n",
              "      <td>weekday</td>\n",
              "      <td>98</td>\n",
              "      <td>94</td>\n",
              "      <td>1</td>\n",
              "      <td>1</td>\n",
              "      <td>8</td>\n",
              "      <td>8</td>\n",
              "      <td>23</td>\n",
              "      <td>22</td>\n",
              "    </tr>\n",
              "    <tr>\n",
              "      <th>2</th>\n",
              "      <td>75001</td>\n",
              "      <td>1/3/2018</td>\n",
              "      <td>1439</td>\n",
              "      <td>2</td>\n",
              "      <td>weekday</td>\n",
              "      <td>138</td>\n",
              "      <td>139</td>\n",
              "      <td>0</td>\n",
              "      <td>0</td>\n",
              "      <td>2</td>\n",
              "      <td>2</td>\n",
              "      <td>27</td>\n",
              "      <td>27</td>\n",
              "    </tr>\n",
              "    <tr>\n",
              "      <th>3</th>\n",
              "      <td>75001</td>\n",
              "      <td>1/4/2018</td>\n",
              "      <td>1320</td>\n",
              "      <td>3</td>\n",
              "      <td>weekday</td>\n",
              "      <td>104</td>\n",
              "      <td>104</td>\n",
              "      <td>2</td>\n",
              "      <td>2</td>\n",
              "      <td>9</td>\n",
              "      <td>8</td>\n",
              "      <td>25</td>\n",
              "      <td>21</td>\n",
              "    </tr>\n",
              "    <tr>\n",
              "      <th>4</th>\n",
              "      <td>75001</td>\n",
              "      <td>1/5/2018</td>\n",
              "      <td>1440</td>\n",
              "      <td>4</td>\n",
              "      <td>weekday</td>\n",
              "      <td>114</td>\n",
              "      <td>117</td>\n",
              "      <td>3</td>\n",
              "      <td>3</td>\n",
              "      <td>6</td>\n",
              "      <td>6</td>\n",
              "      <td>18</td>\n",
              "      <td>20</td>\n",
              "    </tr>\n",
              "  </tbody>\n",
              "</table>\n",
              "</div>"
            ],
            "text/plain": [
              "   Postal code      date  ...  Slots_freed_sum  Slots_taken_sum\n",
              "0        75001  1/1/2018  ...               22               20\n",
              "1        75001  1/2/2018  ...               23               22\n",
              "2        75001  1/3/2018  ...               27               27\n",
              "3        75001  1/4/2018  ...               25               21\n",
              "4        75001  1/5/2018  ...               18               20\n",
              "\n",
              "[5 rows x 13 columns]"
            ]
          },
          "metadata": {
            "tags": []
          },
          "execution_count": 10
        }
      ]
    },
    {
      "cell_type": "markdown",
      "metadata": {
        "id": "EsTlutdiCoIa",
        "colab_type": "text"
      },
      "source": [
        "# Reading the Dataset"
      ]
    },
    {
      "cell_type": "code",
      "metadata": {
        "id": "drE9xQE5H50r",
        "colab_type": "code",
        "colab": {
          "base_uri": "https://localhost:8080/",
          "height": 52
        },
        "outputId": "54aa165b-4b96-4ef4-e2c9-fa86a9b1a4de"
      },
      "source": [
        "#previewing the number of rows and columns that are in the dataset\n",
        "print((auto.shape[0]), 'rows')\n",
        "print(auto.shape[1], 'columns')"
      ],
      "execution_count": 19,
      "outputs": [
        {
          "output_type": "stream",
          "text": [
            "16085 rows\n",
            "13 columns\n"
          ],
          "name": "stdout"
        }
      ]
    },
    {
      "cell_type": "code",
      "metadata": {
        "id": "Mdd67ZfyQkFO",
        "colab_type": "code",
        "colab": {
          "base_uri": "https://localhost:8080/",
          "height": 234
        },
        "outputId": "5f0f1541-0685-4335-94a0-c429b7a446e8"
      },
      "source": [
        "#previewing the first five records in the dataset to see what the data set contains\n",
        "auto.head(5)"
      ],
      "execution_count": 17,
      "outputs": [
        {
          "output_type": "execute_result",
          "data": {
            "text/html": [
              "<div>\n",
              "<style scoped>\n",
              "    .dataframe tbody tr th:only-of-type {\n",
              "        vertical-align: middle;\n",
              "    }\n",
              "\n",
              "    .dataframe tbody tr th {\n",
              "        vertical-align: top;\n",
              "    }\n",
              "\n",
              "    .dataframe thead th {\n",
              "        text-align: right;\n",
              "    }\n",
              "</style>\n",
              "<table border=\"1\" class=\"dataframe\">\n",
              "  <thead>\n",
              "    <tr style=\"text-align: right;\">\n",
              "      <th></th>\n",
              "      <th>Postal code</th>\n",
              "      <th>date</th>\n",
              "      <th>n_daily_data_points</th>\n",
              "      <th>dayOfWeek</th>\n",
              "      <th>day_type</th>\n",
              "      <th>BlueCars_taken_sum</th>\n",
              "      <th>BlueCars_returned_sum</th>\n",
              "      <th>Utilib_taken_sum</th>\n",
              "      <th>Utilib_returned_sum</th>\n",
              "      <th>Utilib_14_taken_sum</th>\n",
              "      <th>Utilib_14_returned_sum</th>\n",
              "      <th>Slots_freed_sum</th>\n",
              "      <th>Slots_taken_sum</th>\n",
              "    </tr>\n",
              "  </thead>\n",
              "  <tbody>\n",
              "    <tr>\n",
              "      <th>0</th>\n",
              "      <td>75001</td>\n",
              "      <td>1/1/2018</td>\n",
              "      <td>1440</td>\n",
              "      <td>0</td>\n",
              "      <td>weekday</td>\n",
              "      <td>110</td>\n",
              "      <td>103</td>\n",
              "      <td>3</td>\n",
              "      <td>2</td>\n",
              "      <td>10</td>\n",
              "      <td>9</td>\n",
              "      <td>22</td>\n",
              "      <td>20</td>\n",
              "    </tr>\n",
              "    <tr>\n",
              "      <th>1</th>\n",
              "      <td>75001</td>\n",
              "      <td>1/2/2018</td>\n",
              "      <td>1438</td>\n",
              "      <td>1</td>\n",
              "      <td>weekday</td>\n",
              "      <td>98</td>\n",
              "      <td>94</td>\n",
              "      <td>1</td>\n",
              "      <td>1</td>\n",
              "      <td>8</td>\n",
              "      <td>8</td>\n",
              "      <td>23</td>\n",
              "      <td>22</td>\n",
              "    </tr>\n",
              "    <tr>\n",
              "      <th>2</th>\n",
              "      <td>75001</td>\n",
              "      <td>1/3/2018</td>\n",
              "      <td>1439</td>\n",
              "      <td>2</td>\n",
              "      <td>weekday</td>\n",
              "      <td>138</td>\n",
              "      <td>139</td>\n",
              "      <td>0</td>\n",
              "      <td>0</td>\n",
              "      <td>2</td>\n",
              "      <td>2</td>\n",
              "      <td>27</td>\n",
              "      <td>27</td>\n",
              "    </tr>\n",
              "    <tr>\n",
              "      <th>3</th>\n",
              "      <td>75001</td>\n",
              "      <td>1/4/2018</td>\n",
              "      <td>1320</td>\n",
              "      <td>3</td>\n",
              "      <td>weekday</td>\n",
              "      <td>104</td>\n",
              "      <td>104</td>\n",
              "      <td>2</td>\n",
              "      <td>2</td>\n",
              "      <td>9</td>\n",
              "      <td>8</td>\n",
              "      <td>25</td>\n",
              "      <td>21</td>\n",
              "    </tr>\n",
              "    <tr>\n",
              "      <th>4</th>\n",
              "      <td>75001</td>\n",
              "      <td>1/5/2018</td>\n",
              "      <td>1440</td>\n",
              "      <td>4</td>\n",
              "      <td>weekday</td>\n",
              "      <td>114</td>\n",
              "      <td>117</td>\n",
              "      <td>3</td>\n",
              "      <td>3</td>\n",
              "      <td>6</td>\n",
              "      <td>6</td>\n",
              "      <td>18</td>\n",
              "      <td>20</td>\n",
              "    </tr>\n",
              "  </tbody>\n",
              "</table>\n",
              "</div>"
            ],
            "text/plain": [
              "   Postal code      date  ...  Slots_freed_sum  Slots_taken_sum\n",
              "0        75001  1/1/2018  ...               22               20\n",
              "1        75001  1/2/2018  ...               23               22\n",
              "2        75001  1/3/2018  ...               27               27\n",
              "3        75001  1/4/2018  ...               25               21\n",
              "4        75001  1/5/2018  ...               18               20\n",
              "\n",
              "[5 rows x 13 columns]"
            ]
          },
          "metadata": {
            "tags": []
          },
          "execution_count": 17
        }
      ]
    },
    {
      "cell_type": "code",
      "metadata": {
        "id": "UbMRnhI1KYE4",
        "colab_type": "code",
        "colab": {
          "base_uri": "https://localhost:8080/",
          "height": 234
        },
        "outputId": "d135527c-f8fe-4136-9ea7-4c128181f3a1"
      },
      "source": [
        "#previewing the bottom five records in the dataset\n",
        "auto.tail()"
      ],
      "execution_count": 24,
      "outputs": [
        {
          "output_type": "execute_result",
          "data": {
            "text/html": [
              "<div>\n",
              "<style scoped>\n",
              "    .dataframe tbody tr th:only-of-type {\n",
              "        vertical-align: middle;\n",
              "    }\n",
              "\n",
              "    .dataframe tbody tr th {\n",
              "        vertical-align: top;\n",
              "    }\n",
              "\n",
              "    .dataframe thead th {\n",
              "        text-align: right;\n",
              "    }\n",
              "</style>\n",
              "<table border=\"1\" class=\"dataframe\">\n",
              "  <thead>\n",
              "    <tr style=\"text-align: right;\">\n",
              "      <th></th>\n",
              "      <th>Postal code</th>\n",
              "      <th>date</th>\n",
              "      <th>n_daily_data_points</th>\n",
              "      <th>dayOfWeek</th>\n",
              "      <th>day_type</th>\n",
              "      <th>BlueCars_taken_sum</th>\n",
              "      <th>BlueCars_returned_sum</th>\n",
              "      <th>Utilib_taken_sum</th>\n",
              "      <th>Utilib_returned_sum</th>\n",
              "      <th>Utilib_14_taken_sum</th>\n",
              "      <th>Utilib_14_returned_sum</th>\n",
              "      <th>Slots_freed_sum</th>\n",
              "      <th>Slots_taken_sum</th>\n",
              "    </tr>\n",
              "  </thead>\n",
              "  <tbody>\n",
              "    <tr>\n",
              "      <th>16080</th>\n",
              "      <td>95880</td>\n",
              "      <td>6/15/2018</td>\n",
              "      <td>1440</td>\n",
              "      <td>4</td>\n",
              "      <td>weekday</td>\n",
              "      <td>15</td>\n",
              "      <td>10</td>\n",
              "      <td>0</td>\n",
              "      <td>0</td>\n",
              "      <td>2</td>\n",
              "      <td>3</td>\n",
              "      <td>0</td>\n",
              "      <td>0</td>\n",
              "    </tr>\n",
              "    <tr>\n",
              "      <th>16081</th>\n",
              "      <td>95880</td>\n",
              "      <td>6/16/2018</td>\n",
              "      <td>1440</td>\n",
              "      <td>5</td>\n",
              "      <td>weekend</td>\n",
              "      <td>19</td>\n",
              "      <td>19</td>\n",
              "      <td>0</td>\n",
              "      <td>0</td>\n",
              "      <td>2</td>\n",
              "      <td>1</td>\n",
              "      <td>0</td>\n",
              "      <td>0</td>\n",
              "    </tr>\n",
              "    <tr>\n",
              "      <th>16082</th>\n",
              "      <td>95880</td>\n",
              "      <td>6/17/2018</td>\n",
              "      <td>1440</td>\n",
              "      <td>6</td>\n",
              "      <td>weekend</td>\n",
              "      <td>33</td>\n",
              "      <td>35</td>\n",
              "      <td>1</td>\n",
              "      <td>1</td>\n",
              "      <td>0</td>\n",
              "      <td>0</td>\n",
              "      <td>0</td>\n",
              "      <td>0</td>\n",
              "    </tr>\n",
              "    <tr>\n",
              "      <th>16083</th>\n",
              "      <td>95880</td>\n",
              "      <td>6/18/2018</td>\n",
              "      <td>1440</td>\n",
              "      <td>0</td>\n",
              "      <td>weekday</td>\n",
              "      <td>11</td>\n",
              "      <td>14</td>\n",
              "      <td>3</td>\n",
              "      <td>5</td>\n",
              "      <td>2</td>\n",
              "      <td>2</td>\n",
              "      <td>0</td>\n",
              "      <td>0</td>\n",
              "    </tr>\n",
              "    <tr>\n",
              "      <th>16084</th>\n",
              "      <td>95880</td>\n",
              "      <td>6/19/2018</td>\n",
              "      <td>1370</td>\n",
              "      <td>1</td>\n",
              "      <td>weekday</td>\n",
              "      <td>2</td>\n",
              "      <td>2</td>\n",
              "      <td>2</td>\n",
              "      <td>1</td>\n",
              "      <td>0</td>\n",
              "      <td>0</td>\n",
              "      <td>0</td>\n",
              "      <td>0</td>\n",
              "    </tr>\n",
              "  </tbody>\n",
              "</table>\n",
              "</div>"
            ],
            "text/plain": [
              "       Postal code       date  ...  Slots_freed_sum  Slots_taken_sum\n",
              "16080        95880  6/15/2018  ...                0                0\n",
              "16081        95880  6/16/2018  ...                0                0\n",
              "16082        95880  6/17/2018  ...                0                0\n",
              "16083        95880  6/18/2018  ...                0                0\n",
              "16084        95880  6/19/2018  ...                0                0\n",
              "\n",
              "[5 rows x 13 columns]"
            ]
          },
          "metadata": {
            "tags": []
          },
          "execution_count": 24
        }
      ]
    },
    {
      "cell_type": "code",
      "metadata": {
        "id": "Hy8oyUbKCuF8",
        "colab_type": "code",
        "colab": {
          "base_uri": "https://localhost:8080/",
          "height": 265
        },
        "outputId": "c1e86cc0-3bdd-497f-8a6a-138202e6509f"
      },
      "source": [
        "auto.dtypes"
      ],
      "execution_count": 22,
      "outputs": [
        {
          "output_type": "execute_result",
          "data": {
            "text/plain": [
              "Postal code                int64\n",
              "date                      object\n",
              "n_daily_data_points        int64\n",
              "dayOfWeek                  int64\n",
              "day_type                  object\n",
              "BlueCars_taken_sum         int64\n",
              "BlueCars_returned_sum      int64\n",
              "Utilib_taken_sum           int64\n",
              "Utilib_returned_sum        int64\n",
              "Utilib_14_taken_sum        int64\n",
              "Utilib_14_returned_sum     int64\n",
              "Slots_freed_sum            int64\n",
              "Slots_taken_sum            int64\n",
              "dtype: object"
            ]
          },
          "metadata": {
            "tags": []
          },
          "execution_count": 22
        }
      ]
    },
    {
      "cell_type": "markdown",
      "metadata": {
        "id": "hLKNfpewJ4J7",
        "colab_type": "text"
      },
      "source": [
        "# Tidying the Dataset\n",
        "While tidying the dataset, I shall check for missing data, check for validity by identifying irrelevant data that may not be needed, check for any syntax errors, outliers and also check for data completeness and uniformity."
      ]
    },
    {
      "cell_type": "code",
      "metadata": {
        "id": "7B_B1PeoJk9e",
        "colab_type": "code",
        "colab": {
          "base_uri": "https://localhost:8080/",
          "height": 105
        },
        "outputId": "037e606a-98be-4dd7-9559-9cab839ef806"
      },
      "source": [
        "#checking the column names\n",
        "auto.columns"
      ],
      "execution_count": 26,
      "outputs": [
        {
          "output_type": "execute_result",
          "data": {
            "text/plain": [
              "Index(['Postal code', 'date', 'n_daily_data_points', 'dayOfWeek', 'day_type',\n",
              "       'BlueCars_taken_sum', 'BlueCars_returned_sum', 'Utilib_taken_sum',\n",
              "       'Utilib_returned_sum', 'Utilib_14_taken_sum', 'Utilib_14_returned_sum',\n",
              "       'Slots_freed_sum', 'Slots_taken_sum'],\n",
              "      dtype='object')"
            ]
          },
          "metadata": {
            "tags": []
          },
          "execution_count": 26
        }
      ]
    },
    {
      "cell_type": "code",
      "metadata": {
        "id": "GE9qEQqhLyv0",
        "colab_type": "code",
        "colab": {
          "base_uri": "https://localhost:8080/",
          "height": 105
        },
        "outputId": "f378a817-73d8-40bc-c4fe-8e4be4443ce8"
      },
      "source": [
        "#converting all the column names to lower case and replacing any spaces ' ', with '_'\n",
        "auto.columns = auto.columns.str.strip().str.replace(' ','_').str.lower()\n",
        "#previewing the column names to ensure the changes have been effected\n",
        "auto.columns"
      ],
      "execution_count": 27,
      "outputs": [
        {
          "output_type": "execute_result",
          "data": {
            "text/plain": [
              "Index(['postal_code', 'date', 'n_daily_data_points', 'dayofweek', 'day_type',\n",
              "       'bluecars_taken_sum', 'bluecars_returned_sum', 'utilib_taken_sum',\n",
              "       'utilib_returned_sum', 'utilib_14_taken_sum', 'utilib_14_returned_sum',\n",
              "       'slots_freed_sum', 'slots_taken_sum'],\n",
              "      dtype='object')"
            ]
          },
          "metadata": {
            "tags": []
          },
          "execution_count": 27
        }
      ]
    },
    {
      "cell_type": "code",
      "metadata": {
        "id": "zcnIcyh4MfVR",
        "colab_type": "code",
        "colab": {}
      },
      "source": [
        "#converting the date column to time data type\n"
      ],
      "execution_count": 0,
      "outputs": []
    },
    {
      "cell_type": "code",
      "metadata": {
        "id": "L7piT8V5NQJG",
        "colab_type": "code",
        "colab": {
          "base_uri": "https://localhost:8080/",
          "height": 1000
        },
        "outputId": "29f69d74-a00c-49ec-8d29-1b1c1b45a138"
      },
      "source": [
        "# Checking duplicate rows except first occurrence based on all columns in the data set\n",
        "duplicateRows = auto[auto.duplicated()]\n",
        " \n",
        "print(\"Duplicate Rows except first occurrence based on all columns are :\")\n",
        "print(auto)\n",
        "\n",
        "#most of the duplicate values are postal codes but each represent a different value in terms of cars and dates.\n",
        "#therefore none of the duplicate values will be deleted since they will be important for the model."
      ],
      "execution_count": 29,
      "outputs": [
        {
          "output_type": "stream",
          "text": [
            "Duplicate Rows except first occurrence based on all columns are :\n",
            "       postal_code       date  ...  slots_freed_sum  slots_taken_sum\n",
            "0            75001   1/1/2018  ...               22               20\n",
            "1            75001   1/2/2018  ...               23               22\n",
            "2            75001   1/3/2018  ...               27               27\n",
            "3            75001   1/4/2018  ...               25               21\n",
            "4            75001   1/5/2018  ...               18               20\n",
            "5            75001   1/6/2018  ...               38               35\n",
            "6            75001   1/7/2018  ...               34               34\n",
            "7            75001   1/8/2018  ...               14               15\n",
            "8            75001   1/9/2018  ...               15               15\n",
            "9            75001  1/10/2018  ...               23               22\n",
            "10           75001  1/11/2018  ...               22               22\n",
            "11           75001  1/12/2018  ...               11               13\n",
            "12           75001  1/13/2018  ...               38               38\n",
            "13           75001  1/14/2018  ...               22               20\n",
            "14           75001  1/15/2018  ...               15               15\n",
            "15           75001  1/16/2018  ...               19               20\n",
            "16           75001  1/17/2018  ...               16               15\n",
            "17           75001  1/18/2018  ...               21               21\n",
            "18           75001  1/19/2018  ...               17               19\n",
            "19           75001  1/20/2018  ...               41               39\n",
            "20           75001  1/21/2018  ...               23               25\n",
            "21           75001  1/22/2018  ...               14               14\n",
            "22           75001  1/23/2018  ...               11                9\n",
            "23           75001  1/24/2018  ...               24               25\n",
            "24           75001  1/25/2018  ...               20               20\n",
            "25           75001  1/26/2018  ...               35               37\n",
            "26           75001  1/27/2018  ...               36               36\n",
            "27           75001  1/28/2018  ...               32               30\n",
            "28           75001  1/29/2018  ...               17               16\n",
            "29           75001  1/30/2018  ...               11               11\n",
            "...            ...        ...  ...              ...              ...\n",
            "16055        95880  5/21/2018  ...                0                0\n",
            "16056        95880  5/22/2018  ...                0                0\n",
            "16057        95880  5/23/2018  ...                0                0\n",
            "16058        95880  5/24/2018  ...                0                0\n",
            "16059        95880  5/25/2018  ...                0                0\n",
            "16060        95880  5/26/2018  ...                0                0\n",
            "16061        95880  5/27/2018  ...                0                0\n",
            "16062        95880  5/28/2018  ...                0                0\n",
            "16063        95880  5/29/2018  ...                0                0\n",
            "16064        95880  5/30/2018  ...                0                0\n",
            "16065        95880  5/31/2018  ...                0                0\n",
            "16066        95880   6/1/2018  ...                0                0\n",
            "16067        95880   6/2/2018  ...                0                0\n",
            "16068        95880   6/3/2018  ...                0                0\n",
            "16069        95880   6/4/2018  ...                0                0\n",
            "16070        95880   6/5/2018  ...                0                0\n",
            "16071        95880   6/6/2018  ...                0                0\n",
            "16072        95880   6/7/2018  ...                0                0\n",
            "16073        95880   6/8/2018  ...                0                0\n",
            "16074        95880   6/9/2018  ...                0                0\n",
            "16075        95880  6/10/2018  ...                0                0\n",
            "16076        95880  6/11/2018  ...                0                0\n",
            "16077        95880  6/12/2018  ...                0                0\n",
            "16078        95880  6/13/2018  ...                0                0\n",
            "16079        95880  6/14/2018  ...                0                0\n",
            "16080        95880  6/15/2018  ...                0                0\n",
            "16081        95880  6/16/2018  ...                0                0\n",
            "16082        95880  6/17/2018  ...                0                0\n",
            "16083        95880  6/18/2018  ...                0                0\n",
            "16084        95880  6/19/2018  ...                0                0\n",
            "\n",
            "[16085 rows x 13 columns]\n"
          ],
          "name": "stdout"
        }
      ]
    },
    {
      "cell_type": "code",
      "metadata": {
        "id": "IUukZrGIMorV",
        "colab_type": "code",
        "colab": {
          "base_uri": "https://localhost:8080/",
          "height": 776
        },
        "outputId": "dac6b354-d766-4e38-baa7-d4d2008606b6"
      },
      "source": [
        "#checking the dataset for any outliers\n",
        "#plots all the outliers for all numeric values columns\n",
        "auto.boxplot(figsize = (17,13))\n",
        "\n",
        "#most of the columns seem to have outliers but i shall keep them as they may be crucial to the model"
      ],
      "execution_count": 33,
      "outputs": [
        {
          "output_type": "execute_result",
          "data": {
            "text/plain": [
              "<matplotlib.axes._subplots.AxesSubplot at 0x7fe2cae44e10>"
            ]
          },
          "metadata": {
            "tags": []
          },
          "execution_count": 33
        },
        {
          "output_type": "display_data",
          "data": {
            "image/png": "[encoded data removed]",
            "text/plain": [
              "<Figure size 1224x936 with 1 Axes>"
            ]
          },
          "metadata": {
            "tags": []
          }
        }
      ]
    },
    {
      "cell_type": "code",
      "metadata": {
        "id": "6_49r8EpM4Z_",
        "colab_type": "code",
        "colab": {
          "base_uri": "https://localhost:8080/",
          "height": 301
        },
        "outputId": "f6f1964a-a2f3-4898-f16c-6d420a5faadd"
      },
      "source": [
        "#boxplot for the postal code column\n",
        "sns.boxplot(auto['postal_code'], showmeans = True)"
      ],
      "execution_count": 36,
      "outputs": [
        {
          "output_type": "execute_result",
          "data": {
            "text/plain": [
              "<matplotlib.axes._subplots.AxesSubplot at 0x7fe2cac51d30>"
            ]
          },
          "metadata": {
            "tags": []
          },
          "execution_count": 36
        },
        {
          "output_type": "display_data",
          "data": {
            "image/png": "[encoded data removed]",
            "text/plain": [
              "<Figure size 432x288 with 1 Axes>"
            ]
          },
          "metadata": {
            "tags": []
          }
        }
      ]
    },
    {
      "cell_type": "code",
      "metadata": {
        "id": "yCnyKE1pQyeX",
        "colab_type": "code",
        "colab": {
          "base_uri": "https://localhost:8080/",
          "height": 301
        },
        "outputId": "98adc6e8-550e-4556-e391-3d550b0bd818"
      },
      "source": [
        "#boxplot for the daily data points column\n",
        "sns.boxplot(auto['n_daily_data_points'], showmeans = True)\n",
        "#the data points column seems to have many outliers but i shall keep them for my model"
      ],
      "execution_count": 40,
      "outputs": [
        {
          "output_type": "execute_result",
          "data": {
            "text/plain": [
              "<matplotlib.axes._subplots.AxesSubplot at 0x7fe2cac2dc50>"
            ]
          },
          "metadata": {
            "tags": []
          },
          "execution_count": 40
        },
        {
          "output_type": "display_data",
          "data": {
            "image/png": "[encoded data removed]",
            "text/plain": [
              "<Figure size 432x288 with 1 Axes>"
            ]
          },
          "metadata": {
            "tags": []
          }
        }
      ]
    },
    {
      "cell_type": "code",
      "metadata": {
        "id": "wPgpeV8aREym",
        "colab_type": "code",
        "colab": {
          "base_uri": "https://localhost:8080/",
          "height": 105
        },
        "outputId": "e10ebfd9-74a4-4f2d-f27b-0fe1df43f44c"
      },
      "source": [
        "auto.columns"
      ],
      "execution_count": 42,
      "outputs": [
        {
          "output_type": "execute_result",
          "data": {
            "text/plain": [
              "Index(['postal_code', 'date', 'n_daily_data_points', 'dayofweek', 'day_type',\n",
              "       'bluecars_taken_sum', 'bluecars_returned_sum', 'utilib_taken_sum',\n",
              "       'utilib_returned_sum', 'utilib_14_taken_sum', 'utilib_14_returned_sum',\n",
              "       'slots_freed_sum', 'slots_taken_sum'],\n",
              "      dtype='object')"
            ]
          },
          "metadata": {
            "tags": []
          },
          "execution_count": 42
        }
      ]
    },
    {
      "cell_type": "code",
      "metadata": {
        "id": "IfYfl5hGREk2",
        "colab_type": "code",
        "colab": {
          "base_uri": "https://localhost:8080/",
          "height": 300
        },
        "outputId": "7a4bf924-9c21-4542-a81f-47412d8b4e81"
      },
      "source": [
        "sns.boxplot(auto['dayofweek'], showmeans = True)\n",
        "#the dayofweek column does not present any outliers"
      ],
      "execution_count": 43,
      "outputs": [
        {
          "output_type": "execute_result",
          "data": {
            "text/plain": [
              "<matplotlib.axes._subplots.AxesSubplot at 0x7fe2cabbbc18>"
            ]
          },
          "metadata": {
            "tags": []
          },
          "execution_count": 43
        },
        {
          "output_type": "display_data",
          "data": {
            "image/png": "[encoded data removed]",
            "text/plain": [
              "<Figure size 432x288 with 1 Axes>"
            ]
          },
          "metadata": {
            "tags": []
          }
        }
      ]
    },
    {
      "cell_type": "code",
      "metadata": {
        "id": "xkcFx6LwO6dN",
        "colab_type": "code",
        "colab": {
          "base_uri": "https://localhost:8080/",
          "height": 265
        },
        "outputId": "2797fbfa-73f3-44c7-b721-dfe07db65273"
      },
      "source": [
        "#checking the data set for any null values\n",
        "auto.isnull().sum()\n",
        "#the data set does not contain any null values"
      ],
      "execution_count": 38,
      "outputs": [
        {
          "output_type": "execute_result",
          "data": {
            "text/plain": [
              "postal_code               0\n",
              "date                      0\n",
              "n_daily_data_points       0\n",
              "dayofweek                 0\n",
              "day_type                  0\n",
              "bluecars_taken_sum        0\n",
              "bluecars_returned_sum     0\n",
              "utilib_taken_sum          0\n",
              "utilib_returned_sum       0\n",
              "utilib_14_taken_sum       0\n",
              "utilib_14_returned_sum    0\n",
              "slots_freed_sum           0\n",
              "slots_taken_sum           0\n",
              "dtype: int64"
            ]
          },
          "metadata": {
            "tags": []
          },
          "execution_count": 38
        }
      ]
    },
    {
      "cell_type": "code",
      "metadata": {
        "id": "slYPtsNrPhQo",
        "colab_type": "code",
        "colab": {
          "base_uri": "https://localhost:8080/",
          "height": 1000
        },
        "outputId": "51a2b20c-f4ed-4d18-fab6-e013c638e88e"
      },
      "source": [
        "#iterating through all columns for unique values in the dataset\n",
        "for i in auto.columns:\n",
        "  #to print a line in between the columns\n",
        "  print('\\n')\n",
        "  print(auto[i].unique())"
      ],
      "execution_count": 39,
      "outputs": [
        {
          "output_type": "stream",
          "text": [
            "\n",
            "\n",
            "[75001 75002 75003 75004 75005 75006 75007 75008 75009 75010 75011 75012\n",
            " 75013 75014 75015 75016 75017 75018 75019 75020 75112 75116 78000 78140\n",
            " 78150 91330 91370 91400 92000 92100 92110 92120 92130 92140 92150 92160\n",
            " 92170 92190 92200 92210 92220 92230 92240 92250 92260 92270 92290 92300\n",
            " 92310 92320 92330 92340 92350 92360 92370 92380 92390 92400 92410 92420\n",
            " 92500 92600 92700 92800 93100 93110 93130 93150 93170 93200 93230 93260\n",
            " 93300 93310 93350 93360 93370 93390 93400 93440 93500 93600 93700 93800\n",
            " 94000 94100 94110 94120 94130 94140 94150 94160 94220 94230 94300 94340\n",
            " 94410 94450 94500 94700 94800 95100 95870 95880]\n",
            "\n",
            "\n",
            "['1/1/2018' '1/2/2018' '1/3/2018' '1/4/2018' '1/5/2018' '1/6/2018'\n",
            " '1/7/2018' '1/8/2018' '1/9/2018' '1/10/2018' '1/11/2018' '1/12/2018'\n",
            " '1/13/2018' '1/14/2018' '1/15/2018' '1/16/2018' '1/17/2018' '1/18/2018'\n",
            " '1/19/2018' '1/20/2018' '1/21/2018' '1/22/2018' '1/23/2018' '1/24/2018'\n",
            " '1/25/2018' '1/26/2018' '1/27/2018' '1/28/2018' '1/29/2018' '1/30/2018'\n",
            " '1/31/2018' '2/1/2018' '2/2/2018' '2/3/2018' '2/4/2018' '2/5/2018'\n",
            " '2/6/2018' '2/7/2018' '2/8/2018' '2/9/2018' '2/10/2018' '2/11/2018'\n",
            " '2/12/2018' '2/13/2018' '2/14/2018' '2/15/2018' '2/16/2018' '2/17/2018'\n",
            " '2/18/2018' '2/19/2018' '2/20/2018' '2/21/2018' '2/22/2018' '2/23/2018'\n",
            " '2/24/2018' '2/28/2018' '3/1/2018' '3/2/2018' '3/3/2018' '3/4/2018'\n",
            " '3/5/2018' '3/6/2018' '3/7/2018' '3/8/2018' '3/9/2018' '3/10/2018'\n",
            " '3/11/2018' '3/12/2018' '3/13/2018' '3/14/2018' '3/15/2018' '3/16/2018'\n",
            " '3/17/2018' '3/18/2018' '3/19/2018' '3/20/2018' '3/21/2018' '3/22/2018'\n",
            " '3/23/2018' '3/24/2018' '3/25/2018' '3/26/2018' '3/27/2018' '3/28/2018'\n",
            " '3/29/2018' '3/30/2018' '3/31/2018' '4/1/2018' '4/2/2018' '4/3/2018'\n",
            " '4/4/2018' '4/5/2018' '4/6/2018' '4/7/2018' '4/8/2018' '4/9/2018'\n",
            " '4/10/2018' '4/11/2018' '4/12/2018' '4/13/2018' '4/14/2018' '4/15/2018'\n",
            " '4/16/2018' '4/17/2018' '4/18/2018' '4/19/2018' '4/20/2018' '4/21/2018'\n",
            " '4/22/2018' '4/23/2018' '4/24/2018' '4/25/2018' '4/26/2018' '4/27/2018'\n",
            " '4/28/2018' '4/29/2018' '4/30/2018' '5/1/2018' '5/2/2018' '5/3/2018'\n",
            " '5/4/2018' '5/5/2018' '5/6/2018' '5/7/2018' '5/8/2018' '5/20/2018'\n",
            " '5/21/2018' '5/22/2018' '5/23/2018' '5/24/2018' '5/25/2018' '5/26/2018'\n",
            " '5/27/2018' '5/28/2018' '5/29/2018' '5/30/2018' '5/31/2018' '6/1/2018'\n",
            " '6/2/2018' '6/3/2018' '6/4/2018' '6/5/2018' '6/6/2018' '6/7/2018'\n",
            " '6/8/2018' '6/9/2018' '6/10/2018' '6/11/2018' '6/12/2018' '6/13/2018'\n",
            " '6/14/2018' '6/15/2018' '6/16/2018' '6/17/2018' '6/18/2018' '6/19/2018']\n",
            "\n",
            "\n",
            "[1440 1438 1439 1320 1437 1434 1398 1420 1425 1396 1429 1389 1380 1364\n",
            " 1318 1377 1203 1417 1435 1174 1436 1411 1370]\n",
            "\n",
            "\n",
            "[0 1 2 3 4 5 6]\n",
            "\n",
            "\n",
            "['weekday' 'weekend']\n",
            "\n",
            "\n",
            "[ 110   98  138  104  114  187  180   84   81   88  125  126  224  193\n",
            "  107  116  118  122  130  217  143  123  112  108  145  216  190   83\n",
            "  103  146  199  186  121  113  109  207  160  115   94   99  119  176\n",
            "  157   85  100  135    8   92  127  136  192  168  102  134  197  173\n",
            "  131  196  150  156  231  105  219  179  124  188  139   97  120  159\n",
            "  147  151  129  152  142  141  202  175   96  133  254  137  185  203\n",
            "    6  166  165  243  264  213  164  163  191  276  210  183  148  270\n",
            "  128  280  178  153  158  259  161  240   12  181  140  263  167  177\n",
            "  250  208  171  266  155  247  154  184  293  228  182  144  218  162\n",
            "  239  200  170  174  172  245    5  195  237  331  283  212  211  380\n",
            "  356  233  220  238  384  313  229  221  201  350  327  223  226  234\n",
            "  262  361  335  205  198  346  303  236  341  277  206   25  230  330\n",
            "  286  265  251  412  340  227  357  319  189  375  326  311  284  255\n",
            "  209  215  323  256  204  214  382  315  310  333  260  297  258  241\n",
            "  235  349  305  290  275  194  307  328  242  308  279  288  320  273\n",
            "  261  169  344  334  291  294  278  287  149  370   18  257  397  365\n",
            "  298  299  321  490  427  269  451  363  339  317  416  449  296  306\n",
            "  475  348  446  343  324  304  342  355  267   37  253  401  407  396\n",
            "  282  281  271  395  345  325  292  369  232  318  309  300  314  373\n",
            "  302  377  353  312  347  268  403  364  289  252  301  376   29  405\n",
            "  366  225   24  421  244  391  272  246  222  248  374  387  359   13\n",
            "  249  336  337  274  372  394  379  411  354  295   20  368  285  322\n",
            "  409  358  360  400  393  332  386  422  430  426  442  398  415  525\n",
            "  471  455  458  462  551  520  452  453  467  487  428  482  495  435\n",
            "  464  480  417  577  437  418  489  431  383  414  399   26  425  419\n",
            "  447  459  505  463  424  468  491  492  476  473  423  433  494  516\n",
            "  338  478  497  469  465  537  479  474  524  413  371  466  432  434\n",
            "  316  450  589  501  528  533  484  460  521  518  486  488  485  500\n",
            "   21  378  503  367   27  329  385  457  352  351  381  420  390  477\n",
            "  440  461  443  388   56  438  441  402  408  406   16  499  688  557\n",
            "  738  599  445  714  613  404  679  529  456  702  598  654  602  534\n",
            "  563   69  444  483  737  655  594  697  536  612  579  507  658  593\n",
            "  454  584  362  436  552  472  481  470  539  648  569  581  631  561\n",
            "  540  576  496  696  554  389   49  502  605  634  515  764  673  535\n",
            "  735  666  690  642  448  549  816  609  672  617  541  724   46  439\n",
            "  614  519  661  645  514  637  410  710  590  506  610  623  493  703\n",
            "  542  657  713  504  585  580  517  727  708  680  687  550  734  636\n",
            "  624  722  659  616  767  647  508  575  725  684  792  646  682  523\n",
            "  618  660  649  543   36  513  733  695  544  681  511  643  532  700\n",
            "  652  498  510  603  560  664  555  568  651  526  564  538  800  709\n",
            "  556  826  747  567  573  662   30  429  677  640  611  712  650  559\n",
            "  625   39  632  620  546  586  601  592  698  678  653  691  781  739\n",
            "  669  852 1061  913  694  791  810  881 1255 1097  753  885  831  950\n",
            " 1352 1132  751  718  784  871  963 1248 1014  721  732  880  942 1327\n",
            " 1043  808  794 1118 1036  723  874  872  943 1144 1037  757  765  827\n",
            "   58  897 1136  999  829  805  790  907 1127 1038  766  811  818  898\n",
            " 1209  980  746  819  813  946 1186  981  797  884  833  867 1024  939\n",
            "  839  756  926  893  875 1277 1082  887  962  955 1005 1002  774  936\n",
            " 1023  925  984  899  877  857  865  773  944 1155 1016  840  931  856\n",
            "  938 1335 1152  861  888  985  932 1089 1338 1164  864  994 1032  968\n",
            " 1087 1330  973  920 1093 1001  693  638  741  847  842  668  768  715\n",
            "  835  918  786  728  908 1062  989  796 1069  795 1065  905  760  755\n",
            "  630  982  665  843  824  953  583  748  719  772  770  683  814 1003\n",
            "  853  793  830  804  783 1015  854  780  987  628  825  799  787  777\n",
            "  817  789 1020  894  761  850  919  686  729  606  731  742  801 1088\n",
            "  758  812  745  912  978  866  862  860  917  846 1080  802  837  832\n",
            "  890 1006  901  844  909  988  845  548  553  705  928  692  776  992\n",
            "  701  945  635  929  716  754  706  644  873  803  604   51  629  740\n",
            "  782  991  785  806  763  736  977  834  762  798  720  868  752  667\n",
            "  809  974  707  744  749  923  859   38  392  547  587  566  530   48\n",
            "  596  582  562  588  591  522  730  704  670  627   55  676  531  622\n",
            "  639  545  527   31  619  615  633  571   47  512  600  626  558    7\n",
            "   11    3    4   10    9   14   17   19    0    2   15    1   23   71\n",
            "   43   35   68   67   28   64   70   33   80   63   40   45   62   34\n",
            "   32   59   41   52   74   75   66   78   44   65   93   57   50   53\n",
            "   72   54   82   76   22   42   60  132   79   61  106   73   89   95\n",
            "   91   90   87  111   77   86  101  117]\n",
            "\n",
            "\n",
            "[ 103   94  139  104  117  185  180   83   84   85  125  127  223  193\n",
            "  107  116  118  122  130  217  150  113  146  218  189   81  110  147\n",
            "  204  121   99  112  109  207  165  111   93  119  176  158   86   98\n",
            "  135    9   91  131  137  138  208  177  124  101  145  203  169   96\n",
            "  136  142  196  154  100   97  144  128  179  151  115  232  105  219\n",
            "  143  190  102  159  155  156  120  141  201  133  253  199   95  108\n",
            "  188  126  206  174    7  244  197  153  264  148  164  277  213  149\n",
            "  175  270  198  280  161  178  152  160  257  205  240  123  157   12\n",
            "  265  186  173  140  171  167  255  209  170  266  248  243  183  292\n",
            "  222  134  236  132  181  172  184  168  162  237  163  233  202  283\n",
            "  192  252  211    6  250  187  229  249  338  293  214  212  228  379\n",
            "  359  220  225  245  400  307  221  224  367  334  274  344  340  317\n",
            "  235  342  290  182  241  332  297  195  231  414  329  210  366  319\n",
            "  247  376  331  322  271  328  267  377  311  281  339  305  216  258\n",
            "  284  238  326  275  330  318  304   21  166  279  310  315  300  352\n",
            "  269  254   19  191  333  259  295  262  256  242  341  272  285  288\n",
            "  230  278  303   13  407  356  476  433  302  343  456  372  291  308\n",
            "  301  429  467  321  466  358  306  438  313  299  355  362   16  312\n",
            "  287  261  401  405  260  413  337  298  309  398  375  316  286  426\n",
            "  363  289  320  382  314  349  294  364  346  369  411  378  371   17\n",
            "  399  234  383  227  194  403  325  268  200  423  350  394  365  246\n",
            "  327  226  370  347  273  282  296  408  389  418  324  239  251  416\n",
            "  360  393  396    8  276  409  424  435  442  412  532  492  430  422\n",
            "  460  459  552  545  448  441  465  477  428  488  519  390  406  478\n",
            "  594  380  420  449  368  402   22  427  446  421  457  471  528  454\n",
            "  388  496  523  469  445  453  447  525  417  464  506  512  425  351\n",
            "  432  494  484  529  483  498  535  443  458  392  395  434  462  391\n",
            "  348  444  568  461  463  508  482  534  481  472  518  485  480  415\n",
            "  419   18  336  335  455  521  517  436  263  440  499  410  345  474\n",
            "  381  323  361  384  354  387  439  479  468  450   35  353  397  215\n",
            "   23  513  674  490  716  641  713  644  386  431  690  569  507  711\n",
            "  602  613  570   62  595  563  437  493  630  404  658  629  682  557\n",
            "  625  501  567  676  622  596  526  548  579  522  516  373  510  451\n",
            "  659  649  605  475  667  559  561  489  547  688  584   44  611  621\n",
            "  770  687  509  758  655  473  717  536  798  618  669  603  541  671\n",
            "  735  487   61  651  593  656  642  581  686  607  608  673  684  520\n",
            "  666  685  564  497  571  647  725  503  694  724  696  549  707  645\n",
            "   41  550  617  695  670  633  745  679  514  589  712  504  538  560\n",
            "  783  524  592  634   56  639  572  693  546  678  606  544  627  598\n",
            "  530  533  648  537  600  614  551  565  704  531  554  575  785  543\n",
            "  573  824  742  578  698  680   39  582  654  646  672  624  385  597\n",
            "   42  638  631  553  615  577  566  635  374  558  495  632  650   27\n",
            "  843  720  752  846 1015  971  728  801  806  815  863 1211 1135  778\n",
            "  773  894  828  952 1300 1149  791  721  838 1214 1049  746  839  837\n",
            "  919 1287 1118  807  793 1136 1066  726  731  874  862  928 1117 1072\n",
            "  762  756  805  860 1057  747  830  865 1111 1119  734  819 1210 1046\n",
            "  780  972 1142 1033  706  792  869  967  979  873  767  893  891  840\n",
            " 1171 1189  875  942  995  963 1133 1051  775  763  736  857 1017  708\n",
            "  826  853  947  910  877  854 1146 1045  907  867  813  911 1032 1276\n",
            " 1271  892  982  948 1039 1294 1230 1004 1010 1040 1332 1143  880  914\n",
            "  970  930 1056 1154 1090   52  660  868  851  662  675  741  749  973\n",
            "  940  755  776  901 1077 1003  753  702  769 1061  890  787  808  887\n",
            " 1044  733  989  705  831  871  818  954  585  681  761   60  628  715\n",
            "  790  759  692  739  789  990  833  784  984  847  765  821 1020  861\n",
            "  616  777  729  842  832  834  797  779  915  898  623  714  710  599\n",
            "  816  620  664  697  802  804 1064  881  743  760  903  966  987  878\n",
            "  902  889 1076  855  885  996  879  906   40  542  703  904  677  939\n",
            "  981  612  938  958  771  917  852  643  709  718  845  590  663   57\n",
            "  864  700  969  610  738  757  730  754  983  975  949  737  823  876\n",
            "  665  768  786  772  965  897  883  539  357  502  586   53  604  527\n",
            "  583  470  580  591  576  652  744  689  683  486  699  701   79  500\n",
            "  722  556  811  515  661  653  587   75  588  601  555  562  637  505\n",
            "   55    5   10   20   11    3    4   14   15    1    0   24    2   49\n",
            "   31   34   65   25   30   38   54   76   32   45   50   37   36   28\n",
            "   74   69   33   29   58   47   48   71   43   66   26   51   59   63\n",
            "   46   68   67   64   90  129   77   78   80   89   88   87   72  106\n",
            "   92   70   73  114   82]\n",
            "\n",
            "\n",
            "[ 3  1  0  2  6  5  4  7  8  9 11 17 10 13 18 12 15 16 21 19 14 34 31 23\n",
            " 20 22 24 29 25 28 26 27 46 32 30 43 38 37 40 45 54 36 35 39 42 33 41 47]\n",
            "\n",
            "\n",
            "[ 2  1  0  3  6  5  4  7  8  9 11 17 10 13 18 14 15 12 21 20 16 19 35 32\n",
            " 23 22 24 25 27 26 30 49 28 31 29 43 38 39 36 34 47 45 33 58 41 37 42 40\n",
            " 44]\n",
            "\n",
            "\n",
            "[ 10   8   2   9   6   7   4  11  13  12  15  25   5  14   3  17  16   0\n",
            "   1  21  18  19  22  20  27  23  24  29  26  28  30  33  41  36  34  40\n",
            "  50  45  32  31  35  37  42  38  48  47  52  39  53  43  56  51  75  49\n",
            "  55  44  46  54  57  61  60  70  58  68  62  64  59  66  63  65  72  89\n",
            "  82  69  71  79  84  73  81  80  67  90 100  91  85  74  76  94  78  95\n",
            "  87  93]\n",
            "\n",
            "\n",
            "[  9   8   2   6  10   4  11  13  12  15   7  25   5  14   3  17  16   0\n",
            "   1  21  18  19  20  22  27  23  24  29  34  41  28  35  32  30  26  33\n",
            "  43  50  44  31  36  40  38  48  37  47  53  45  39  51  54  52  46  74\n",
            "  42  57  49  60  63  61  55  66  59  58  67  68  62  64  71  56  69  84\n",
            "  70  72  86  76  80  89  73  94  79  65  93  78  75  77  82  85  88 101\n",
            "  87  90  96  83]\n",
            "\n",
            "\n",
            "[ 22  23  27  25  18  38  34  14  15  11  19  16  21  17  41  24  20  35\n",
            "  36  32  13  28  12  26   0  48  30  29  31  47  33  40  37   9  10  43\n",
            "  44  49  39  42  45  51  46  59  64  56  52   1  50  95  84  83  81  58\n",
            "  61  67 101  86  63  97  60  57  65  80  79  77  54  85  75  73  55   3\n",
            "  62  82  71  69  74  89  91 109  70  76  72  68  78  53  66  87   2   5\n",
            " 120 111  92 110  88 103 142 115 105 113 121  96  90 134 140 130  94  99\n",
            " 128 100 129  98 118 106 119 117 102 107  93 135 104 122 133 108 112 116\n",
            " 123 136 126   6 114 132 177 167 125 124 131 143 139 137 153 180 157 162\n",
            " 152 151 149 156 145 173 147 211 127 141 161 144 163 138 171 158 148 168\n",
            " 154 166 150 170 146 165 178 174 175 176 181 190 160 184 205 253 252 155\n",
            " 193 204 221 214 169 197 196 200 199 191 185 183 208 159 218 215 179 216\n",
            " 203 186 206   7 192 172 202 236 274 195 222 239 213 229 188 201 240 164\n",
            " 226 220 182   8 194 248 289 286 234 302 254 189 235 319 277 284 360 249\n",
            " 237 305 263 271 272 209 301 278 251 322 232 207 228 283 344 282 212 330\n",
            " 309 225 217 357 280 257 300 273 250 288 339 292 242 262 308 285 198 241\n",
            " 264 267 335 293 310 219 224 187 230 223 269 258 210 233 246 255 259 227\n",
            " 244 245 231 270 275 243 296 334   4]\n",
            "\n",
            "\n",
            "[ 20  22  27  21  35  34  15  13  38  19  39  25  14   9  37  36  30  16\n",
            "  11  28  33  18  12   0  31  23  26  50  17  40  24  48  32   8  29  42\n",
            "  43  49  45  41  44  52  59  46  65  47  57  51   1  97  87  54  84  83\n",
            "  60  69 103  58  62  92  67  78  82  77  53  88  72  66  99  64  55  75\n",
            " 113  63  74  71  89  68  81  73  70  61  79  56  76  86   2 118 108 107\n",
            " 144 114  93 105 106 115 122  90  80  98  85 139 136 128  94 126  95   4\n",
            " 130 102  96 129 138 111 124 101 109 116 110 134  91 119 137 100   3 104\n",
            " 112   6 177 125 120 123 131 135 140 132 155 182 154 164 121 151 157 147\n",
            " 117 153 160 141 172 161   5 213 145 143 162 127 148 169 149 171 167 163\n",
            " 166 133 158 159 150 174 173 178 152   7 176 179 165 180 142 188 185 183\n",
            "  10 210 252 249 199 196 228 205 201 181 193 184 207 168 225 187 212 186\n",
            " 146 170 203 223 197 194 230 280 202 191 200 221 218 192 156 208 175 198\n",
            " 233 204 222 220 189 215 245 214 209 248 287 286 229 240 295 211 321 272\n",
            " 195 226 235 216 278 359 328 247 239 330 298 260 271 273 263 255 227 315\n",
            " 284 231 349 236 253 322 285 251 246 238 261 301 219 346 289 217 254 283\n",
            " 275 299 232 224 243 242 303 268 244 336 305 297 241 262 258 338 270 292\n",
            " 264 294 290 206 190 234 267 269 250 276 279 304 326]\n"
          ],
          "name": "stdout"
        }
      ]
    },
    {
      "cell_type": "markdown",
      "metadata": {
        "id": "GfOCP7R4Sn05",
        "colab_type": "text"
      },
      "source": [
        "# Univariate Analysis"
      ]
    },
    {
      "cell_type": "code",
      "metadata": {
        "id": "MkjFarn1ayBh",
        "colab_type": "code",
        "colab": {
          "base_uri": "https://localhost:8080/",
          "height": 105
        },
        "outputId": "53eedd13-d439-405b-a940-8106b255c585"
      },
      "source": [
        "auto.columns"
      ],
      "execution_count": 48,
      "outputs": [
        {
          "output_type": "execute_result",
          "data": {
            "text/plain": [
              "Index(['postal_code', 'date', 'n_daily_data_points', 'dayofweek', 'day_type',\n",
              "       'bluecars_taken_sum', 'bluecars_returned_sum', 'utilib_taken_sum',\n",
              "       'utilib_returned_sum', 'utilib_14_taken_sum', 'utilib_14_returned_sum',\n",
              "       'slots_freed_sum', 'slots_taken_sum'],\n",
              "      dtype='object')"
            ]
          },
          "metadata": {
            "tags": []
          },
          "execution_count": 48
        }
      ]
    },
    {
      "cell_type": "code",
      "metadata": {
        "id": "IXe_fAtycS93",
        "colab_type": "code",
        "colab": {
          "base_uri": "https://localhost:8080/",
          "height": 387
        },
        "outputId": "86eab71a-66f9-4857-91d0-5f3e6629b791"
      },
      "source": [
        "#iterating through all columns for unique values in the dataset\n",
        "for x in auto.columns:\n",
        "  #to print a line in between the columns\n",
        "  print('\\n')\n",
        "  print(st.mean(auto))"
      ],
      "execution_count": 55,
      "outputs": [
        {
          "output_type": "stream",
          "text": [
            "\n",
            "\n"
          ],
          "name": "stdout"
        },
        {
          "output_type": "error",
          "ename": "TypeError",
          "evalue": "ignored",
          "traceback": [
            "\u001b[0;31m---------------------------------------------------------------------------\u001b[0m",
            "\u001b[0;31mTypeError\u001b[0m                                 Traceback (most recent call last)",
            "\u001b[0;32m<ipython-input-55-1afa7168a64c>\u001b[0m in \u001b[0;36m<module>\u001b[0;34m()\u001b[0m\n\u001b[1;32m      2\u001b[0m   \u001b[0;31m#to print a line in between the columns\u001b[0m\u001b[0;34m\u001b[0m\u001b[0;34m\u001b[0m\u001b[0;34m\u001b[0m\u001b[0m\n\u001b[1;32m      3\u001b[0m   \u001b[0mprint\u001b[0m\u001b[0;34m(\u001b[0m\u001b[0;34m'\\n'\u001b[0m\u001b[0;34m)\u001b[0m\u001b[0;34m\u001b[0m\u001b[0;34m\u001b[0m\u001b[0m\n\u001b[0;32m----> 4\u001b[0;31m   \u001b[0mprint\u001b[0m\u001b[0;34m(\u001b[0m\u001b[0mst\u001b[0m\u001b[0;34m.\u001b[0m\u001b[0mmean\u001b[0m\u001b[0;34m(\u001b[0m\u001b[0mauto\u001b[0m\u001b[0;34m)\u001b[0m\u001b[0;34m)\u001b[0m\u001b[0;34m\u001b[0m\u001b[0;34m\u001b[0m\u001b[0m\n\u001b[0m",
            "\u001b[0;32m/usr/lib/python3.6/statistics.py\u001b[0m in \u001b[0;36mmean\u001b[0;34m(data)\u001b[0m\n\u001b[1;32m    310\u001b[0m     \u001b[0;32mif\u001b[0m \u001b[0mn\u001b[0m \u001b[0;34m<\u001b[0m \u001b[0;36m1\u001b[0m\u001b[0;34m:\u001b[0m\u001b[0;34m\u001b[0m\u001b[0;34m\u001b[0m\u001b[0m\n\u001b[1;32m    311\u001b[0m         \u001b[0;32mraise\u001b[0m \u001b[0mStatisticsError\u001b[0m\u001b[0;34m(\u001b[0m\u001b[0;34m'mean requires at least one data point'\u001b[0m\u001b[0;34m)\u001b[0m\u001b[0;34m\u001b[0m\u001b[0;34m\u001b[0m\u001b[0m\n\u001b[0;32m--> 312\u001b[0;31m     \u001b[0mT\u001b[0m\u001b[0;34m,\u001b[0m \u001b[0mtotal\u001b[0m\u001b[0;34m,\u001b[0m \u001b[0mcount\u001b[0m \u001b[0;34m=\u001b[0m \u001b[0m_sum\u001b[0m\u001b[0;34m(\u001b[0m\u001b[0mdata\u001b[0m\u001b[0;34m)\u001b[0m\u001b[0;34m\u001b[0m\u001b[0;34m\u001b[0m\u001b[0m\n\u001b[0m\u001b[1;32m    313\u001b[0m     \u001b[0;32massert\u001b[0m \u001b[0mcount\u001b[0m \u001b[0;34m==\u001b[0m \u001b[0mn\u001b[0m\u001b[0;34m\u001b[0m\u001b[0;34m\u001b[0m\u001b[0m\n\u001b[1;32m    314\u001b[0m     \u001b[0;32mreturn\u001b[0m \u001b[0m_convert\u001b[0m\u001b[0;34m(\u001b[0m\u001b[0mtotal\u001b[0m\u001b[0;34m/\u001b[0m\u001b[0mn\u001b[0m\u001b[0;34m,\u001b[0m \u001b[0mT\u001b[0m\u001b[0;34m)\u001b[0m\u001b[0;34m\u001b[0m\u001b[0;34m\u001b[0m\u001b[0m\n",
            "\u001b[0;32m/usr/lib/python3.6/statistics.py\u001b[0m in \u001b[0;36m_sum\u001b[0;34m(data, start)\u001b[0m\n\u001b[1;32m    146\u001b[0m     \u001b[0;32mfor\u001b[0m \u001b[0mtyp\u001b[0m\u001b[0;34m,\u001b[0m \u001b[0mvalues\u001b[0m \u001b[0;32min\u001b[0m \u001b[0mgroupby\u001b[0m\u001b[0;34m(\u001b[0m\u001b[0mdata\u001b[0m\u001b[0;34m,\u001b[0m \u001b[0mtype\u001b[0m\u001b[0;34m)\u001b[0m\u001b[0;34m:\u001b[0m\u001b[0;34m\u001b[0m\u001b[0;34m\u001b[0m\u001b[0m\n\u001b[1;32m    147\u001b[0m         \u001b[0mT\u001b[0m \u001b[0;34m=\u001b[0m \u001b[0m_coerce\u001b[0m\u001b[0;34m(\u001b[0m\u001b[0mT\u001b[0m\u001b[0;34m,\u001b[0m \u001b[0mtyp\u001b[0m\u001b[0;34m)\u001b[0m  \u001b[0;31m# or raise TypeError\u001b[0m\u001b[0;34m\u001b[0m\u001b[0;34m\u001b[0m\u001b[0m\n\u001b[0;32m--> 148\u001b[0;31m         \u001b[0;32mfor\u001b[0m \u001b[0mn\u001b[0m\u001b[0;34m,\u001b[0m\u001b[0md\u001b[0m \u001b[0;32min\u001b[0m \u001b[0mmap\u001b[0m\u001b[0;34m(\u001b[0m\u001b[0m_exact_ratio\u001b[0m\u001b[0;34m,\u001b[0m \u001b[0mvalues\u001b[0m\u001b[0;34m)\u001b[0m\u001b[0;34m:\u001b[0m\u001b[0;34m\u001b[0m\u001b[0;34m\u001b[0m\u001b[0m\n\u001b[0m\u001b[1;32m    149\u001b[0m             \u001b[0mcount\u001b[0m \u001b[0;34m+=\u001b[0m \u001b[0;36m1\u001b[0m\u001b[0;34m\u001b[0m\u001b[0;34m\u001b[0m\u001b[0m\n\u001b[1;32m    150\u001b[0m             \u001b[0mpartials\u001b[0m\u001b[0;34m[\u001b[0m\u001b[0md\u001b[0m\u001b[0;34m]\u001b[0m \u001b[0;34m=\u001b[0m \u001b[0mpartials_get\u001b[0m\u001b[0;34m(\u001b[0m\u001b[0md\u001b[0m\u001b[0;34m,\u001b[0m \u001b[0;36m0\u001b[0m\u001b[0;34m)\u001b[0m \u001b[0;34m+\u001b[0m \u001b[0mn\u001b[0m\u001b[0;34m\u001b[0m\u001b[0;34m\u001b[0m\u001b[0m\n",
            "\u001b[0;32m/usr/lib/python3.6/statistics.py\u001b[0m in \u001b[0;36m_exact_ratio\u001b[0;34m(x)\u001b[0m\n\u001b[1;32m    228\u001b[0m         \u001b[0;32mreturn\u001b[0m \u001b[0;34m(\u001b[0m\u001b[0mx\u001b[0m\u001b[0;34m,\u001b[0m \u001b[0;32mNone\u001b[0m\u001b[0;34m)\u001b[0m\u001b[0;34m\u001b[0m\u001b[0;34m\u001b[0m\u001b[0m\n\u001b[1;32m    229\u001b[0m     \u001b[0mmsg\u001b[0m \u001b[0;34m=\u001b[0m \u001b[0;34m\"can't convert type '{}' to numerator/denominator\"\u001b[0m\u001b[0;34m\u001b[0m\u001b[0;34m\u001b[0m\u001b[0m\n\u001b[0;32m--> 230\u001b[0;31m     \u001b[0;32mraise\u001b[0m \u001b[0mTypeError\u001b[0m\u001b[0;34m(\u001b[0m\u001b[0mmsg\u001b[0m\u001b[0;34m.\u001b[0m\u001b[0mformat\u001b[0m\u001b[0;34m(\u001b[0m\u001b[0mtype\u001b[0m\u001b[0;34m(\u001b[0m\u001b[0mx\u001b[0m\u001b[0;34m)\u001b[0m\u001b[0;34m.\u001b[0m\u001b[0m__name__\u001b[0m\u001b[0;34m)\u001b[0m\u001b[0;34m)\u001b[0m\u001b[0;34m\u001b[0m\u001b[0;34m\u001b[0m\u001b[0m\n\u001b[0m\u001b[1;32m    231\u001b[0m \u001b[0;34m\u001b[0m\u001b[0m\n\u001b[1;32m    232\u001b[0m \u001b[0;34m\u001b[0m\u001b[0m\n",
            "\u001b[0;31mTypeError\u001b[0m: can't convert type 'str' to numerator/denominator"
          ]
        }
      ]
    },
    {
      "cell_type": "code",
      "metadata": {
        "id": "ZTUUl3TDZoCY",
        "colab_type": "code",
        "colab": {}
      },
      "source": [
        "#measures of central tendency for the different variables in the data\n",
        "#means of various variables\n",
        "st.mean(auto[('n_daily_data_points','dayofweek')])"
      ],
      "execution_count": 0,
      "outputs": []
    },
    {
      "cell_type": "code",
      "metadata": {
        "id": "NRADUITTTUe9",
        "colab_type": "code",
        "colab": {}
      },
      "source": [
        "#Frequency table of the dataset using cross tab between country and has a bank account column\n",
        "#financeone.value_counts()\n",
        "frequencies = pd.crosstab(index=financeone[\"country\"], columns=[financeone[\"has_a_bank_account\"]],margins = True)\n",
        "frequencies"
      ],
      "execution_count": 0,
      "outputs": []
    }
  ]
}